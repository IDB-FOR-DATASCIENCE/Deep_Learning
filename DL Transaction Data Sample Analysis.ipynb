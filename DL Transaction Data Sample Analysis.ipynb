{
 "cells": [
  {
   "cell_type": "code",
   "execution_count": null,
   "id": "909098c0",
   "metadata": {},
   "outputs": [],
   "source": [
    "https://www.kaggle.com/datasets/chitwanmanchanda/fraudulent-transactions-data?resource=download"
   ]
  },
  {
   "cell_type": "raw",
   "id": "e2321106",
   "metadata": {},
   "source": [
    "!pip install category_encoders"
   ]
  },
  {
   "cell_type": "code",
   "execution_count": 11,
   "id": "840831e4",
   "metadata": {},
   "outputs": [],
   "source": [
    "import pandas as pd\n",
    "from sklearn.model_selection import train_test_split\n",
    "import category_encoders as ce"
   ]
  },
  {
   "cell_type": "code",
   "execution_count": null,
   "id": "1bd2153c",
   "metadata": {},
   "outputs": [],
   "source": [
    "df = pd.read_csv(\"Fraud.csv\")\n",
    "df.info()"
   ]
  },
  {
   "cell_type": "code",
   "execution_count": null,
   "id": "371c8b2d",
   "metadata": {},
   "outputs": [],
   "source": [
    "df.head()"
   ]
  },
  {
   "cell_type": "code",
   "execution_count": 3,
   "id": "dc78a8ea",
   "metadata": {},
   "outputs": [
    {
     "data": {
      "text/plain": [
       "Index(['step', 'type', 'amount', 'nameOrig', 'oldbalanceOrg', 'newbalanceOrig',\n",
       "       'nameDest', 'oldbalanceDest', 'newbalanceDest', 'isFraud',\n",
       "       'isFlaggedFraud'],\n",
       "      dtype='object')"
      ]
     },
     "execution_count": 3,
     "metadata": {},
     "output_type": "execute_result"
    }
   ],
   "source": [
    "# get column names\n",
    "df.columns"
   ]
  },
  {
   "cell_type": "code",
   "execution_count": 8,
   "id": "ad1239fd",
   "metadata": {},
   "outputs": [
    {
     "data": {
      "text/plain": [
       "CASH_OUT    2237500\n",
       "PAYMENT     2151495\n",
       "CASH_IN     1399284\n",
       "TRANSFER     532909\n",
       "DEBIT         41432\n",
       "Name: type, dtype: int64"
      ]
     },
     "execution_count": 8,
     "metadata": {},
     "output_type": "execute_result"
    }
   ],
   "source": [
    "# Get categories of a column\n",
    "df['type'].value_counts()"
   ]
  },
  {
   "cell_type": "code",
   "execution_count": 11,
   "id": "8b2238d7",
   "metadata": {},
   "outputs": [],
   "source": [
    "# Select relevant columns\n",
    "df_v2 = df[['step', 'type', 'amount', 'oldbalanceOrg', 'newbalanceOrig',\n",
    "       'oldbalanceDest', 'newbalanceDest', 'isFraud',\n",
    "       'isFlaggedFraud']]\n",
    "\n",
    "# One hot encoding\n",
    "df_v3 = pd.get_dummies(df_v2, columns=['type']) #drop_first=True\n",
    "\n",
    "# Train test split\n",
    "X = df_v3.drop(['isFraud'], axis=1)\n",
    "y = df_v3[['isFraud']]\n",
    "X_train, X_test, y_train, y_test = train_test_split(X,y , random_state=104,test_size=0.25) #, shuffle=True"
   ]
  },
  {
   "cell_type": "code",
   "execution_count": 23,
   "id": "fe62a44a",
   "metadata": {},
   "outputs": [
    {
     "name": "stdout",
     "output_type": "stream",
     "text": [
      "Epoch 1/50\n",
      "149124/149124 [==============================] - 47s 316us/step - loss: 9.7678 - recall_2: 0.0000e+00\n",
      "Epoch 2/50\n",
      "149124/149124 [==============================] - 47s 317us/step - loss: 0.4861 - recall_2: 0.0000e+00\n",
      "Epoch 3/50\n",
      "149124/149124 [==============================] - 47s 317us/step - loss: 2.4188 - recall_2: 0.0000e+00\n",
      "Epoch 4/50\n",
      "149124/149124 [==============================] - 180s 1ms/step - loss: 4.8731 - recall_2: 0.0000e+00\n",
      "Epoch 5/50\n",
      "149124/149124 [==============================] - 47s 314us/step - loss: 1.9832 - recall_2: 0.0000e+00\n",
      "Epoch 6/50\n",
      "149124/149124 [==============================] - 47s 316us/step - loss: 0.4708 - recall_2: 0.0000e+00\n",
      "Epoch 7/50\n",
      "149124/149124 [==============================] - 47s 318us/step - loss: 1.9873 - recall_2: 0.0000e+00\n",
      "Epoch 8/50\n",
      "149124/149124 [==============================] - 47s 316us/step - loss: 3.8848 - recall_2: 0.0000e+00\n",
      "Epoch 9/50\n",
      "149124/149124 [==============================] - 48s 320us/step - loss: 0.8476 - recall_2: 0.0000e+00\n",
      "Epoch 10/50\n",
      "149124/149124 [==============================] - 47s 315us/step - loss: 0.6176 - recall_2: 0.0000e+00\n",
      "Epoch 11/50\n",
      "149124/149124 [==============================] - 49s 326us/step - loss: 2.9708 - recall_2: 0.0000e+00\n",
      "Epoch 12/50\n",
      "149124/149124 [==============================] - 47s 317us/step - loss: 2.1391 - recall_2: 4.9028e-04\n",
      "Epoch 13/50\n",
      "149124/149124 [==============================] - 48s 323us/step - loss: 0.9838 - recall_2: 0.0000e+00\n",
      "Epoch 14/50\n",
      "149124/149124 [==============================] - 47s 317us/step - loss: 0.7560 - recall_2: 0.0000e+00\n",
      "Epoch 15/50\n",
      "149124/149124 [==============================] - 49s 327us/step - loss: 0.6456 - recall_2: 1.6343e-04\n",
      "Epoch 16/50\n",
      "149124/149124 [==============================] - 48s 321us/step - loss: 0.6755 - recall_2: 1.6343e-04\n",
      "Epoch 17/50\n",
      "149124/149124 [==============================] - 48s 323us/step - loss: 0.5707 - recall_2: 3.2685e-04\n",
      "Epoch 18/50\n",
      "149124/149124 [==============================] - 47s 317us/step - loss: 3.4316 - recall_2: 0.0000e+00\n",
      "Epoch 19/50\n",
      "149124/149124 [==============================] - 47s 317us/step - loss: 0.4371 - recall_2: 0.0000e+00\n",
      "Epoch 20/50\n",
      "149124/149124 [==============================] - 48s 319us/step - loss: 1.9003 - recall_2: 0.0000e+00\n",
      "Epoch 21/50\n",
      "149124/149124 [==============================] - 50s 334us/step - loss: 1.3781 - recall_2: 0.0000e+00\n",
      "Epoch 22/50\n",
      "149124/149124 [==============================] - 47s 318us/step - loss: 3.5342 - recall_2: 0.0000e+00\n",
      "Epoch 23/50\n",
      "149124/149124 [==============================] - 48s 321us/step - loss: 0.7687 - recall_2: 1.6343e-04\n",
      "Epoch 24/50\n",
      "149124/149124 [==============================] - 51s 339us/step - loss: 1.3015 - recall_2: 1.6343e-04\n",
      "Epoch 25/50\n",
      "149124/149124 [==============================] - 48s 321us/step - loss: 1.1712 - recall_2: 0.0000e+00\n",
      "Epoch 26/50\n",
      "149124/149124 [==============================] - 48s 319us/step - loss: 4.0053 - recall_2: 0.0000e+00\n",
      "Epoch 27/50\n",
      "149124/149124 [==============================] - 48s 319us/step - loss: 4.3383 - recall_2: 1.6343e-04\n",
      "Epoch 28/50\n",
      "149124/149124 [==============================] - 47s 317us/step - loss: 1.8201 - recall_2: 4.9028e-04\n",
      "Epoch 29/50\n",
      "149124/149124 [==============================] - 47s 316us/step - loss: 1.7893 - recall_2: 6.5370e-04\n",
      "Epoch 30/50\n",
      "149124/149124 [==============================] - 47s 317us/step - loss: 2.6672 - recall_2: 3.2685e-04\n",
      "Epoch 31/50\n",
      "149124/149124 [==============================] - 48s 320us/step - loss: 1.2282 - recall_2: 4.9028e-04\n",
      "Epoch 32/50\n",
      "149124/149124 [==============================] - 47s 317us/step - loss: 0.5541 - recall_2: 0.0000e+00\n",
      "Epoch 33/50\n",
      "149124/149124 [==============================] - 48s 323us/step - loss: 1.0811 - recall_2: 1.6343e-04\n",
      "Epoch 34/50\n",
      "149124/149124 [==============================] - 48s 323us/step - loss: 1.1456 - recall_2: 1.6343e-04\n",
      "Epoch 35/50\n",
      "149124/149124 [==============================] - 47s 318us/step - loss: 1.4753 - recall_2: 1.6343e-04\n",
      "Epoch 36/50\n",
      "149124/149124 [==============================] - 47s 318us/step - loss: 1.6879 - recall_2: 0.0000e+00\n",
      "Epoch 37/50\n",
      "149124/149124 [==============================] - 48s 323us/step - loss: 2.4904 - recall_2: 4.9028e-04\n",
      "Epoch 38/50\n",
      "149124/149124 [==============================] - 48s 323us/step - loss: 2.6147 - recall_2: 4.9028e-04\n",
      "Epoch 39/50\n",
      "149124/149124 [==============================] - 48s 320us/step - loss: 3.0899 - recall_2: 6.5370e-04\n",
      "Epoch 40/50\n",
      "149124/149124 [==============================] - 49s 326us/step - loss: 3.4786 - recall_2: 3.2685e-04\n",
      "Epoch 41/50\n",
      "149124/149124 [==============================] - 48s 323us/step - loss: 3.4598 - recall_2: 6.5370e-04\n",
      "Epoch 42/50\n",
      "149124/149124 [==============================] - 47s 317us/step - loss: 1.6211 - recall_2: 6.5370e-04\n",
      "Epoch 43/50\n",
      "149124/149124 [==============================] - 47s 316us/step - loss: 1.2129 - recall_2: 0.0000e+00\n",
      "Epoch 44/50\n",
      "149124/149124 [==============================] - 47s 317us/step - loss: 1.5071 - recall_2: 0.0000e+00\n",
      "Epoch 45/50\n",
      "149124/149124 [==============================] - 47s 316us/step - loss: 3.8571 - recall_2: 0.0000e+00\n",
      "Epoch 46/50\n",
      "149124/149124 [==============================] - 47s 316us/step - loss: 2.2596 - recall_2: 0.0000e+00\n",
      "Epoch 47/50\n",
      "149124/149124 [==============================] - 47s 317us/step - loss: 8.8773 - recall_2: 0.0000e+00\n",
      "Epoch 48/50\n",
      "149124/149124 [==============================] - 47s 318us/step - loss: 1.2319 - recall_2: 0.0000e+00\n",
      "Epoch 49/50\n",
      "149124/149124 [==============================] - 47s 318us/step - loss: 2.2056 - recall_2: 0.0000e+00\n",
      "Epoch 50/50\n",
      "149124/149124 [==============================] - 47s 317us/step - loss: 1.3530 - recall_2: 0.0000e+00\n",
      "49708/49708 [==============================] - 13s 253us/step - loss: 0.0217 - recall_2: 0.0000e+00\n",
      "Test Recall: 0.000\n"
     ]
    }
   ],
   "source": [
    "import tensorflow as tf\n",
    "from tensorflow.keras import Sequential\n",
    "from tensorflow.keras.layers import Dense\n",
    "\n",
    "\n",
    "# determine the number of input features\n",
    "n_features = X_train.shape[1]\n",
    "\n",
    "# define model\n",
    "model = Sequential()\n",
    "model.add(Dense(10, activation='relu', kernel_initializer='he_normal', input_shape=(n_features,)))\n",
    "model.add(Dense(8, activation='relu', kernel_initializer='he_normal'))\n",
    "model.add(Dense(1, activation='sigmoid'))\n",
    "\n",
    "# compile the model\n",
    "model.compile(optimizer='adam', loss='binary_crossentropy', metrics=[tf.keras.metrics.Recall()])\n",
    "\n",
    "# fit the model\n",
    "model.fit(X_train, y_train, epochs=50, batch_size=32, verbose=1)\n",
    "\n",
    "# evaluate the model\n",
    "loss, recall = model.evaluate(X_test, y_test, verbose=1)\n",
    "print(f'Test Recall: {recall:.3f}')\n",
    "\n"
   ]
  },
  {
   "cell_type": "code",
   "execution_count": 24,
   "id": "d7964646",
   "metadata": {},
   "outputs": [
    {
     "name": "stdout",
     "output_type": "stream",
     "text": [
      "1/1 [==============================] - 0s 34ms/step\n",
      "Predicted: [[2.1709837e-03]\n",
      " [2.1709837e-03]\n",
      " [2.1709837e-03]\n",
      " [0.0000000e+00]\n",
      " [2.1844214e-19]\n",
      " [0.0000000e+00]\n",
      " [0.0000000e+00]\n",
      " [2.1709837e-03]\n",
      " [2.1709835e-03]\n",
      " [0.0000000e+00]]\n"
     ]
    }
   ],
   "source": [
    "# make a prediction\n",
    "yhat = model.predict(X_test[:10])\n",
    "print(f'Predicted: {yhat}')"
   ]
  },
  {
   "cell_type": "markdown",
   "id": "a9d216c2",
   "metadata": {},
   "source": [
    "# LSTM"
   ]
  },
  {
   "cell_type": "code",
   "execution_count": null,
   "id": "49392e5f",
   "metadata": {},
   "outputs": [],
   "source": [
    "https://archive.ics.uci.edu/dataset/502/online+retail+ii"
   ]
  },
  {
   "cell_type": "code",
   "execution_count": 3,
   "id": "ef36881c",
   "metadata": {},
   "outputs": [],
   "source": [
    "import pandas as pd\n",
    "import numpy as np\n",
    "import datetime as dt\n",
    "pd.set_option('display.max_columns', None)\n",
    "#pd.set_option('display.max_rows', None)\n",
    "pd.set_option('display.float_format', lambda x: '%2f' % x)"
   ]
  },
  {
   "cell_type": "code",
   "execution_count": 4,
   "id": "bb7878b2",
   "metadata": {},
   "outputs": [
    {
     "name": "stdout",
     "output_type": "stream",
     "text": [
      "<class 'pandas.core.frame.DataFrame'>\n",
      "RangeIndex: 525461 entries, 0 to 525460\n",
      "Data columns (total 8 columns):\n",
      " #   Column       Non-Null Count   Dtype         \n",
      "---  ------       --------------   -----         \n",
      " 0   Invoice      525461 non-null  object        \n",
      " 1   StockCode    525461 non-null  object        \n",
      " 2   Description  522533 non-null  object        \n",
      " 3   Quantity     525461 non-null  int64         \n",
      " 4   InvoiceDate  525461 non-null  datetime64[ns]\n",
      " 5   Price        525461 non-null  float64       \n",
      " 6   Customer ID  417534 non-null  float64       \n",
      " 7   Country      525461 non-null  object        \n",
      "dtypes: datetime64[ns](1), float64(2), int64(1), object(4)\n",
      "memory usage: 32.1+ MB\n"
     ]
    }
   ],
   "source": [
    "df = pd.read_excel(\"online_retail_II.xlsx\", sheet_name=\"Year 2009-2010\")\n",
    "df.info()"
   ]
  },
  {
   "cell_type": "code",
   "execution_count": 5,
   "id": "e5c60c05",
   "metadata": {},
   "outputs": [],
   "source": [
    "# Drop nulls and convert Customer id to string\n",
    "df = df.dropna()\n",
    "df['Customer ID'] = df['Customer ID'].astype(int).astype(str)"
   ]
  },
  {
   "cell_type": "code",
   "execution_count": 6,
   "id": "31a66680",
   "metadata": {},
   "outputs": [
    {
     "data": {
      "text/html": [
       "<div>\n",
       "<style scoped>\n",
       "    .dataframe tbody tr th:only-of-type {\n",
       "        vertical-align: middle;\n",
       "    }\n",
       "\n",
       "    .dataframe tbody tr th {\n",
       "        vertical-align: top;\n",
       "    }\n",
       "\n",
       "    .dataframe thead th {\n",
       "        text-align: right;\n",
       "    }\n",
       "</style>\n",
       "<table border=\"1\" class=\"dataframe\">\n",
       "  <thead>\n",
       "    <tr style=\"text-align: right;\">\n",
       "      <th></th>\n",
       "      <th>Invoice</th>\n",
       "      <th>StockCode</th>\n",
       "      <th>Description</th>\n",
       "      <th>Quantity</th>\n",
       "      <th>InvoiceDate</th>\n",
       "      <th>Price</th>\n",
       "      <th>Customer ID</th>\n",
       "      <th>Country</th>\n",
       "      <th>cancelled_transaction</th>\n",
       "    </tr>\n",
       "  </thead>\n",
       "  <tbody>\n",
       "    <tr>\n",
       "      <th>0</th>\n",
       "      <td>489434</td>\n",
       "      <td>85048</td>\n",
       "      <td>15CM CHRISTMAS GLASS BALL 20 LIGHTS</td>\n",
       "      <td>12</td>\n",
       "      <td>2009-12-01 07:45:00</td>\n",
       "      <td>6.950000</td>\n",
       "      <td>13085</td>\n",
       "      <td>United Kingdom</td>\n",
       "      <td>0</td>\n",
       "    </tr>\n",
       "    <tr>\n",
       "      <th>1</th>\n",
       "      <td>489434</td>\n",
       "      <td>79323P</td>\n",
       "      <td>PINK CHERRY LIGHTS</td>\n",
       "      <td>12</td>\n",
       "      <td>2009-12-01 07:45:00</td>\n",
       "      <td>6.750000</td>\n",
       "      <td>13085</td>\n",
       "      <td>United Kingdom</td>\n",
       "      <td>0</td>\n",
       "    </tr>\n",
       "    <tr>\n",
       "      <th>2</th>\n",
       "      <td>489434</td>\n",
       "      <td>79323W</td>\n",
       "      <td>WHITE CHERRY LIGHTS</td>\n",
       "      <td>12</td>\n",
       "      <td>2009-12-01 07:45:00</td>\n",
       "      <td>6.750000</td>\n",
       "      <td>13085</td>\n",
       "      <td>United Kingdom</td>\n",
       "      <td>0</td>\n",
       "    </tr>\n",
       "    <tr>\n",
       "      <th>3</th>\n",
       "      <td>489434</td>\n",
       "      <td>22041</td>\n",
       "      <td>RECORD FRAME 7\" SINGLE SIZE</td>\n",
       "      <td>48</td>\n",
       "      <td>2009-12-01 07:45:00</td>\n",
       "      <td>2.100000</td>\n",
       "      <td>13085</td>\n",
       "      <td>United Kingdom</td>\n",
       "      <td>0</td>\n",
       "    </tr>\n",
       "    <tr>\n",
       "      <th>4</th>\n",
       "      <td>489434</td>\n",
       "      <td>21232</td>\n",
       "      <td>STRAWBERRY CERAMIC TRINKET BOX</td>\n",
       "      <td>24</td>\n",
       "      <td>2009-12-01 07:45:00</td>\n",
       "      <td>1.250000</td>\n",
       "      <td>13085</td>\n",
       "      <td>United Kingdom</td>\n",
       "      <td>0</td>\n",
       "    </tr>\n",
       "  </tbody>\n",
       "</table>\n",
       "</div>"
      ],
      "text/plain": [
       "  Invoice StockCode                          Description  Quantity  \\\n",
       "0  489434     85048  15CM CHRISTMAS GLASS BALL 20 LIGHTS        12   \n",
       "1  489434    79323P                   PINK CHERRY LIGHTS        12   \n",
       "2  489434    79323W                  WHITE CHERRY LIGHTS        12   \n",
       "3  489434     22041         RECORD FRAME 7\" SINGLE SIZE         48   \n",
       "4  489434     21232       STRAWBERRY CERAMIC TRINKET BOX        24   \n",
       "\n",
       "          InvoiceDate    Price Customer ID         Country  \\\n",
       "0 2009-12-01 07:45:00 6.950000       13085  United Kingdom   \n",
       "1 2009-12-01 07:45:00 6.750000       13085  United Kingdom   \n",
       "2 2009-12-01 07:45:00 6.750000       13085  United Kingdom   \n",
       "3 2009-12-01 07:45:00 2.100000       13085  United Kingdom   \n",
       "4 2009-12-01 07:45:00 1.250000       13085  United Kingdom   \n",
       "\n",
       "   cancelled_transaction  \n",
       "0                      0  \n",
       "1                      0  \n",
       "2                      0  \n",
       "3                      0  \n",
       "4                      0  "
      ]
     },
     "execution_count": 6,
     "metadata": {},
     "output_type": "execute_result"
    }
   ],
   "source": [
    "# Create y - cancelled transaction\n",
    "df['cancelled_transaction'] = np.where(df['Invoice'].str.contains('C',na=False),1,0)\n",
    "df.head()"
   ]
  },
  {
   "cell_type": "code",
   "execution_count": 7,
   "id": "1f6bb2fe",
   "metadata": {},
   "outputs": [
    {
     "data": {
      "text/plain": [
       "0    407695\n",
       "1      9839\n",
       "Name: cancelled_transaction, dtype: int64"
      ]
     },
     "execution_count": 7,
     "metadata": {},
     "output_type": "execute_result"
    }
   ],
   "source": [
    "df['cancelled_transaction'].value_counts()"
   ]
  },
  {
   "cell_type": "code",
   "execution_count": 8,
   "id": "865a4344",
   "metadata": {},
   "outputs": [
    {
     "name": "stdout",
     "output_type": "stream",
     "text": [
      "StockCode    4031\n",
      "Country        37\n",
      "dtype: int64\n"
     ]
    }
   ],
   "source": [
    "# count of unique values in each column\n",
    "print(df[['StockCode','Country']].nunique())"
   ]
  },
  {
   "cell_type": "code",
   "execution_count": 12,
   "id": "385d8fc7",
   "metadata": {},
   "outputs": [
    {
     "name": "stdout",
     "output_type": "stream",
     "text": [
      "len(df):  417534\n",
      "len(Train_df):  326300\n",
      "len(Test_df):  91234\n"
     ]
    }
   ],
   "source": [
    "# Train Test Split\n",
    "\n",
    "df_grp = pd.DataFrame(df.groupby(['Customer ID']).agg({'cancelled_transaction':['max']})).reset_index()\n",
    "df_grp.columns = ['Customer ID','Y']\n",
    "# Train test split\n",
    "X = df_grp.drop(['Y'], axis=1)\n",
    "y = df_grp[['Y']]\n",
    "X_train, X_test, y_train, y_test = train_test_split(X,y , random_state=104,test_size=0.25,stratify=y) #, shuffle=True\n",
    "\n",
    "Train_cust = X_train['Customer ID'].to_list()\n",
    "print('len(df): ',len(df))\n",
    "Train_df = df[df['Customer ID'].isin(Train_cust)]\n",
    "print('len(Train_df): ',len(Train_df))\n",
    "Test_df = df[~df['Customer ID'].isin(Train_cust)]\n",
    "print('len(Test_df): ',len(Test_df))\n"
   ]
  },
  {
   "cell_type": "code",
   "execution_count": 13,
   "id": "eda4572d",
   "metadata": {},
   "outputs": [
    {
     "name": "stdout",
     "output_type": "stream",
     "text": [
      "0    318699\n",
      "1      7601\n",
      "Name: cancelled_transaction, dtype: int64\n"
     ]
    },
    {
     "data": {
      "text/html": [
       "<div>\n",
       "<style scoped>\n",
       "    .dataframe tbody tr th:only-of-type {\n",
       "        vertical-align: middle;\n",
       "    }\n",
       "\n",
       "    .dataframe tbody tr th {\n",
       "        vertical-align: top;\n",
       "    }\n",
       "\n",
       "    .dataframe thead th {\n",
       "        text-align: right;\n",
       "    }\n",
       "</style>\n",
       "<table border=\"1\" class=\"dataframe\">\n",
       "  <thead>\n",
       "    <tr style=\"text-align: right;\">\n",
       "      <th></th>\n",
       "      <th>Quantity</th>\n",
       "      <th>InvoiceDate</th>\n",
       "      <th>Price</th>\n",
       "      <th>Customer ID</th>\n",
       "      <th>StockCode_woe</th>\n",
       "      <th>Country_woe</th>\n",
       "    </tr>\n",
       "  </thead>\n",
       "  <tbody>\n",
       "    <tr>\n",
       "      <th>0</th>\n",
       "      <td>12</td>\n",
       "      <td>2009-12-01 07:45:00</td>\n",
       "      <td>6.950000</td>\n",
       "      <td>13085</td>\n",
       "      <td>1.795105</td>\n",
       "      <td>-0.048949</td>\n",
       "    </tr>\n",
       "    <tr>\n",
       "      <th>1</th>\n",
       "      <td>12</td>\n",
       "      <td>2009-12-01 07:45:00</td>\n",
       "      <td>6.750000</td>\n",
       "      <td>13085</td>\n",
       "      <td>2.802890</td>\n",
       "      <td>-0.048949</td>\n",
       "    </tr>\n",
       "    <tr>\n",
       "      <th>2</th>\n",
       "      <td>12</td>\n",
       "      <td>2009-12-01 07:45:00</td>\n",
       "      <td>6.750000</td>\n",
       "      <td>13085</td>\n",
       "      <td>2.821527</td>\n",
       "      <td>-0.048949</td>\n",
       "    </tr>\n",
       "    <tr>\n",
       "      <th>3</th>\n",
       "      <td>48</td>\n",
       "      <td>2009-12-01 07:45:00</td>\n",
       "      <td>2.100000</td>\n",
       "      <td>13085</td>\n",
       "      <td>-0.196115</td>\n",
       "      <td>-0.048949</td>\n",
       "    </tr>\n",
       "    <tr>\n",
       "      <th>4</th>\n",
       "      <td>24</td>\n",
       "      <td>2009-12-01 07:45:00</td>\n",
       "      <td>1.250000</td>\n",
       "      <td>13085</td>\n",
       "      <td>1.413689</td>\n",
       "      <td>-0.048949</td>\n",
       "    </tr>\n",
       "  </tbody>\n",
       "</table>\n",
       "</div>"
      ],
      "text/plain": [
       "   Quantity         InvoiceDate    Price Customer ID  StockCode_woe  \\\n",
       "0        12 2009-12-01 07:45:00 6.950000       13085       1.795105   \n",
       "1        12 2009-12-01 07:45:00 6.750000       13085       2.802890   \n",
       "2        12 2009-12-01 07:45:00 6.750000       13085       2.821527   \n",
       "3        48 2009-12-01 07:45:00 2.100000       13085      -0.196115   \n",
       "4        24 2009-12-01 07:45:00 1.250000       13085       1.413689   \n",
       "\n",
       "   Country_woe  \n",
       "0    -0.048949  \n",
       "1    -0.048949  \n",
       "2    -0.048949  \n",
       "3    -0.048949  \n",
       "4    -0.048949  "
      ]
     },
     "execution_count": 13,
     "metadata": {},
     "output_type": "execute_result"
    }
   ],
   "source": [
    "columns = ['StockCode','Country']\n",
    "woe_encoder = ce.WOEEncoder(cols=columns)\n",
    "woe_encoded_train = woe_encoder.fit_transform(Train_df[columns], Train_df['cancelled_transaction']).add_suffix('_woe')\n",
    "train_df_v2 = Train_df.join(woe_encoded_train)\n",
    "train_features = train_df_v2[[ 'Quantity', 'InvoiceDate','Price', 'Customer ID',  'StockCode_woe', 'Country_woe']]\n",
    "train_target = train_df_v2['cancelled_transaction']\n",
    "print(train_df_v2['cancelled_transaction'].value_counts())\n",
    "train_features.head()"
   ]
  },
  {
   "cell_type": "code",
   "execution_count": 55,
   "id": "ab264736",
   "metadata": {},
   "outputs": [
    {
     "data": {
      "text/plain": [
       "0    88996\n",
       "1     2238\n",
       "Name: cancelled_transaction, dtype: int64"
      ]
     },
     "execution_count": 55,
     "metadata": {},
     "output_type": "execute_result"
    }
   ],
   "source": [
    "woe_encoded_test = woe_encoder.transform(Test_df[columns], Test_df['cancelled_transaction']).add_suffix('_woe')\n",
    "test_df_v2 = Test_df.join(woe_encoded_test)\n",
    "test_features = test_df_v2[[ 'Quantity', 'InvoiceDate','Price', 'Customer ID',  'StockCode_woe', 'Country_woe']]\n",
    "test_target = test_df_v2['cancelled_transaction']\n",
    "test_df_v2['cancelled_transaction'].value_counts()"
   ]
  },
  {
   "cell_type": "code",
   "execution_count": 76,
   "id": "d52fc56a",
   "metadata": {},
   "outputs": [],
   "source": [
    "import pandas as pd\n",
    "import numpy as np\n",
    "from sklearn.model_selection import train_test_split\n",
    "from tensorflow.keras.preprocessing.sequence import pad_sequences\n",
    "from tensorflow.keras.utils import to_categorical\n",
    "from tensorflow.keras.models import Sequential\n",
    "from tensorflow.keras.layers import LSTM, Dense, Input\n",
    "\n",
    "\n",
    "# Function to prepare sequences and target\n",
    "def prepare_sequences(data, sequence_length, x_vars, target_var, date_var, id_var):\n",
    "    sequences = []\n",
    "    targets = []\n",
    "    \n",
    "    # Group data by customer_id\n",
    "    grouped = data.groupby(id_var)\n",
    "    \n",
    "    for grp_id, group in grouped:\n",
    "        # Sort transactions by date in ascending order\n",
    "        sorted_group = group.sort_values(by=date_var, ascending=True)\n",
    "        \n",
    "        # Select the last n days of transactions\n",
    "        last_n_days = sorted_group.iloc[-sequence_length:]\n",
    "        \n",
    "        # Fill missing days with zeros\n",
    "        sequence = last_n_days[x_vars].values\n",
    "        if len(sequence) < sequence_length:\n",
    "            sequence = np.vstack([np.zeros((sequence_length - len(sequence), len(x_vars))), sequence])\n",
    "        \n",
    "        # Fill missing days with zeros for target data\n",
    "        target_sequence = last_n_days[target_var].values\n",
    "        if len(target_sequence) < sequence_length:\n",
    "            target_sequence = np.pad(target_sequence, (sequence_length - len(target_sequence), 0), mode='constant')\n",
    "            \n",
    "        sequences.append(sequence)\n",
    "        targets.append(target_sequence)\n",
    "    \n",
    "    return np.array(sequences), np.array(targets)\n",
    "\n",
    "# Set the sequence length for the LSTM\n",
    "sequence_length = 30  # You can adjust this based on the number of days you want to include in the sequence\n",
    "x_vars = ['Quantity', 'Price', 'StockCode_woe', 'Country_woe']\n",
    "date_var = 'InvoiceDate'\n",
    "id_var = 'Customer ID'\n",
    "target_var = 'cancelled_transaction'\n",
    "\n",
    "\n",
    "# Prepare sequences and targets for LSTM\n",
    "X_train, y_train = prepare_sequences(train_df_v2, sequence_length, x_vars, target_var, date_var, id_var)\n",
    "X_test, y_test = prepare_sequences(test_df_v2, sequence_length, x_vars, target_var, date_var, id_var)\n"
   ]
  },
  {
   "cell_type": "code",
   "execution_count": 77,
   "id": "95046dd2",
   "metadata": {},
   "outputs": [
    {
     "name": "stdout",
     "output_type": "stream",
     "text": [
      "Epoch 1/50\n",
      "103/103 [==============================] - 1s 7ms/step - loss: 0.2339 - recall: 0.1488 - val_loss: 0.0979 - val_recall: 0.1363\n",
      "Epoch 2/50\n",
      "103/103 [==============================] - 1s 6ms/step - loss: 0.0950 - recall: 0.0573 - val_loss: 0.0883 - val_recall: 0.1622\n",
      "Epoch 3/50\n",
      "103/103 [==============================] - 1s 6ms/step - loss: 0.0868 - recall: 0.0961 - val_loss: 0.0805 - val_recall: 0.1951\n",
      "Epoch 4/50\n",
      "103/103 [==============================] - 1s 6ms/step - loss: 0.0784 - recall: 0.1922 - val_loss: 0.0724 - val_recall: 0.3478\n",
      "Epoch 5/50\n",
      "103/103 [==============================] - 1s 6ms/step - loss: 0.0698 - recall: 0.2895 - val_loss: 0.0656 - val_recall: 0.4477\n",
      "Epoch 6/50\n",
      "103/103 [==============================] - 1s 6ms/step - loss: 0.0604 - recall: 0.3397 - val_loss: 0.0564 - val_recall: 0.4454\n",
      "Epoch 7/50\n",
      "103/103 [==============================] - 1s 6ms/step - loss: 0.0547 - recall: 0.3616 - val_loss: 0.0514 - val_recall: 0.4724\n",
      "Epoch 8/50\n",
      "103/103 [==============================] - 1s 6ms/step - loss: 0.0511 - recall: 0.3864 - val_loss: 0.0476 - val_recall: 0.4924\n",
      "Epoch 9/50\n",
      "103/103 [==============================] - 1s 6ms/step - loss: 0.0481 - recall: 0.4227 - val_loss: 0.0455 - val_recall: 0.5088\n",
      "Epoch 10/50\n",
      "103/103 [==============================] - 1s 6ms/step - loss: 0.0452 - recall: 0.4421 - val_loss: 0.0424 - val_recall: 0.5112\n",
      "Epoch 11/50\n",
      "103/103 [==============================] - 1s 6ms/step - loss: 0.0437 - recall: 0.4606 - val_loss: 0.0412 - val_recall: 0.5523\n",
      "Epoch 12/50\n",
      "103/103 [==============================] - 1s 6ms/step - loss: 0.0413 - recall: 0.4842 - val_loss: 0.0393 - val_recall: 0.5511\n",
      "Epoch 13/50\n",
      "103/103 [==============================] - 1s 6ms/step - loss: 0.0399 - recall: 0.4943 - val_loss: 0.0378 - val_recall: 0.5593\n",
      "Epoch 14/50\n",
      "103/103 [==============================] - 1s 6ms/step - loss: 0.0381 - recall: 0.5154 - val_loss: 0.0361 - val_recall: 0.5711\n",
      "Epoch 15/50\n",
      "103/103 [==============================] - 1s 6ms/step - loss: 0.0369 - recall: 0.5230 - val_loss: 0.0350 - val_recall: 0.5911\n",
      "Epoch 16/50\n",
      "103/103 [==============================] - 1s 6ms/step - loss: 0.0356 - recall: 0.5419 - val_loss: 0.0341 - val_recall: 0.5981\n",
      "Epoch 17/50\n",
      "103/103 [==============================] - 1s 6ms/step - loss: 0.0344 - recall: 0.5542 - val_loss: 0.0323 - val_recall: 0.6228\n",
      "Epoch 18/50\n",
      "103/103 [==============================] - 1s 6ms/step - loss: 0.0327 - recall: 0.5660 - val_loss: 0.0313 - val_recall: 0.6134\n",
      "Epoch 19/50\n",
      "103/103 [==============================] - 1s 6ms/step - loss: 0.0313 - recall: 0.5807 - val_loss: 0.0299 - val_recall: 0.6392\n",
      "Epoch 20/50\n",
      "103/103 [==============================] - 1s 6ms/step - loss: 0.0305 - recall: 0.5938 - val_loss: 0.0294 - val_recall: 0.6345\n",
      "Epoch 21/50\n",
      "103/103 [==============================] - 1s 6ms/step - loss: 0.0297 - recall: 0.6077 - val_loss: 0.0287 - val_recall: 0.6675\n",
      "Epoch 22/50\n",
      "103/103 [==============================] - 1s 6ms/step - loss: 0.0281 - recall: 0.6199 - val_loss: 0.0272 - val_recall: 0.6627\n",
      "Epoch 23/50\n",
      "103/103 [==============================] - 1s 6ms/step - loss: 0.0267 - recall: 0.6321 - val_loss: 0.0262 - val_recall: 0.6722\n",
      "Epoch 24/50\n",
      "103/103 [==============================] - 1s 6ms/step - loss: 0.0257 - recall: 0.6498 - val_loss: 0.0265 - val_recall: 0.6616\n",
      "Epoch 25/50\n",
      "103/103 [==============================] - 1s 6ms/step - loss: 0.0253 - recall: 0.6532 - val_loss: 0.0267 - val_recall: 0.7051\n",
      "Epoch 26/50\n",
      "103/103 [==============================] - 1s 6ms/step - loss: 0.0250 - recall: 0.6599 - val_loss: 0.0245 - val_recall: 0.6839\n",
      "Epoch 27/50\n",
      "103/103 [==============================] - 1s 6ms/step - loss: 0.0239 - recall: 0.6721 - val_loss: 0.0238 - val_recall: 0.7356\n",
      "Epoch 28/50\n",
      "103/103 [==============================] - 1s 6ms/step - loss: 0.0229 - recall: 0.6957 - val_loss: 0.0227 - val_recall: 0.7051\n",
      "Epoch 29/50\n",
      "103/103 [==============================] - 1s 6ms/step - loss: 0.0218 - recall: 0.7071 - val_loss: 0.0224 - val_recall: 0.7309\n",
      "Epoch 30/50\n",
      "103/103 [==============================] - 1s 6ms/step - loss: 0.0212 - recall: 0.7071 - val_loss: 0.0218 - val_recall: 0.7532\n",
      "Epoch 31/50\n",
      "103/103 [==============================] - 1s 6ms/step - loss: 0.0213 - recall: 0.7198 - val_loss: 0.0224 - val_recall: 0.7650\n",
      "Epoch 32/50\n",
      "103/103 [==============================] - 1s 6ms/step - loss: 0.0214 - recall: 0.7261 - val_loss: 0.0218 - val_recall: 0.7262\n",
      "Epoch 33/50\n",
      "103/103 [==============================] - 1s 6ms/step - loss: 0.0203 - recall: 0.7299 - val_loss: 0.0212 - val_recall: 0.7626\n",
      "Epoch 34/50\n",
      "103/103 [==============================] - 1s 6ms/step - loss: 0.0197 - recall: 0.7480 - val_loss: 0.0206 - val_recall: 0.7485\n",
      "Epoch 35/50\n",
      "103/103 [==============================] - 1s 6ms/step - loss: 0.0188 - recall: 0.7493 - val_loss: 0.0205 - val_recall: 0.7908\n",
      "Epoch 36/50\n",
      "103/103 [==============================] - 1s 6ms/step - loss: 0.0187 - recall: 0.7577 - val_loss: 0.0192 - val_recall: 0.7803\n",
      "Epoch 37/50\n",
      "103/103 [==============================] - 1s 6ms/step - loss: 0.0188 - recall: 0.7745 - val_loss: 0.0218 - val_recall: 0.8155\n",
      "Epoch 38/50\n",
      "103/103 [==============================] - 1s 6ms/step - loss: 0.0190 - recall: 0.7665 - val_loss: 0.0195 - val_recall: 0.7638\n",
      "Epoch 39/50\n",
      "103/103 [==============================] - 1s 6ms/step - loss: 0.0173 - recall: 0.7834 - val_loss: 0.0187 - val_recall: 0.8143\n",
      "Epoch 40/50\n",
      "103/103 [==============================] - 1s 6ms/step - loss: 0.0168 - recall: 0.7889 - val_loss: 0.0182 - val_recall: 0.7685\n",
      "Epoch 41/50\n",
      "103/103 [==============================] - 1s 6ms/step - loss: 0.0169 - recall: 0.7948 - val_loss: 0.0187 - val_recall: 0.7826\n",
      "Epoch 42/50\n",
      "103/103 [==============================] - 1s 6ms/step - loss: 0.0162 - recall: 0.7998 - val_loss: 0.0180 - val_recall: 0.7944\n",
      "Epoch 43/50\n",
      "103/103 [==============================] - 1s 6ms/step - loss: 0.0156 - recall: 0.8053 - val_loss: 0.0181 - val_recall: 0.8461\n",
      "Epoch 44/50\n",
      "103/103 [==============================] - 1s 6ms/step - loss: 0.0156 - recall: 0.8125 - val_loss: 0.0175 - val_recall: 0.8155\n",
      "Epoch 45/50\n",
      "103/103 [==============================] - 1s 6ms/step - loss: 0.0150 - recall: 0.8196 - val_loss: 0.0170 - val_recall: 0.8096\n",
      "Epoch 46/50\n",
      "103/103 [==============================] - 1s 6ms/step - loss: 0.0157 - recall: 0.8112 - val_loss: 0.0176 - val_recall: 0.8085\n",
      "Epoch 47/50\n",
      "103/103 [==============================] - 1s 6ms/step - loss: 0.0151 - recall: 0.8331 - val_loss: 0.0179 - val_recall: 0.7885\n",
      "Epoch 48/50\n",
      "103/103 [==============================] - 1s 6ms/step - loss: 0.0146 - recall: 0.8365 - val_loss: 0.0173 - val_recall: 0.8367\n",
      "Epoch 49/50\n",
      "103/103 [==============================] - 1s 6ms/step - loss: 0.0143 - recall: 0.8352 - val_loss: 0.0177 - val_recall: 0.8496\n",
      "Epoch 50/50\n",
      "103/103 [==============================] - 1s 6ms/step - loss: 0.0139 - recall: 0.8487 - val_loss: 0.0169 - val_recall: 0.8625\n",
      "35/35 [==============================] - 0s 2ms/step - loss: 0.0169 - recall: 0.8625\n",
      "Test loss: 0.016866305842995644\n",
      "Test accuracy: 0.8625146746635437\n"
     ]
    }
   ],
   "source": [
    "# Build the LSTM model\n",
    "model = Sequential()\n",
    "model.add(LSTM(64, input_shape=(sequence_length, len(x_vars))))\n",
    "model.add(Dense(sequence_length, activation='sigmoid'))  # Use sequence_length for the Dense layer size\n",
    "\n",
    "\n",
    "# Compile the model\n",
    "model.compile(loss='binary_crossentropy', optimizer='adam', metrics=[\"Recall\"])\n",
    "\n",
    "# Train the model\n",
    "model.fit(X_train, y_train, epochs=50, batch_size=32, validation_data=(X_test, y_test))\n",
    "\n",
    "# Evaluate the model\n",
    "loss, recall = model.evaluate(X_test, y_test)\n",
    "print(\"Test loss:\", loss)\n",
    "print(\"Test accuracy:\", recall)"
   ]
  },
  {
   "cell_type": "code",
   "execution_count": null,
   "id": "8cc06629",
   "metadata": {},
   "outputs": [],
   "source": []
  },
  {
   "cell_type": "code",
   "execution_count": null,
   "id": "fbfb4f21",
   "metadata": {},
   "outputs": [],
   "source": []
  },
  {
   "cell_type": "code",
   "execution_count": null,
   "id": "004b1155",
   "metadata": {},
   "outputs": [],
   "source": []
  },
  {
   "cell_type": "code",
   "execution_count": null,
   "id": "75666e19",
   "metadata": {},
   "outputs": [],
   "source": []
  }
 ],
 "metadata": {
  "kernelspec": {
   "display_name": "Python 3 (ipykernel)",
   "language": "python",
   "name": "python3"
  },
  "language_info": {
   "codemirror_mode": {
    "name": "ipython",
    "version": 3
   },
   "file_extension": ".py",
   "mimetype": "text/x-python",
   "name": "python",
   "nbconvert_exporter": "python",
   "pygments_lexer": "ipython3",
   "version": "3.10.9"
  }
 },
 "nbformat": 4,
 "nbformat_minor": 5
}
